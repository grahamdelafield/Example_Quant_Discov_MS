{
 "metadata": {
  "language_info": {
   "codemirror_mode": {
    "name": "ipython",
    "version": 3
   },
   "file_extension": ".py",
   "mimetype": "text/x-python",
   "name": "python",
   "nbconvert_exporter": "python",
   "pygments_lexer": "ipython3",
   "version": "3.8.1-final"
  },
  "orig_nbformat": 2,
  "kernelspec": {
   "name": "python3",
   "display_name": "Python 3",
   "language": "python"
  }
 },
 "nbformat": 4,
 "nbformat_minor": 2,
 "cells": [
  {
   "source": [
    "# Peptide Analysis\n",
    "\n",
    "The following notebook shows the data and code used to plot positively identified peptides in samples provided by Hayley B on 1/21/21."
   ],
   "cell_type": "markdown",
   "metadata": {}
  },
  {
   "cell_type": "code",
   "execution_count": 1,
   "metadata": {},
   "outputs": [],
   "source": [
    "from commons.data_processing import *\n",
    "from commons.my_mzml import *\n",
    "from commons.peaks import *\n",
    "import os \n",
    "import re\n",
    "import ntpath\n",
    "import numpy as np \n",
    "import pandas as pd\n",
    "import altair as alt\n",
    "import matplotlib.pyplot as plt "
   ]
  },
  {
   "cell_type": "code",
   "execution_count": 152,
   "metadata": {},
   "outputs": [
    {
     "output_type": "execute_result",
     "data": {
      "text/plain": [
       "   Fraction                                    Source File  Feature Peptide  \\\n",
       "0        29  20210124_GD_ZC_HS_MetBGE_500V_75_25_200mz.raw  F29:609    AGGA   \n",
       "1        30  20210124_GD_ZC_HS_MetBGE_500V_75_25_300mz.raw  F30:185   AGGGG   \n",
       "2        30  20210124_GD_ZC_HS_MetBGE_500V_75_25_300mz.raw  F30:607   NGGGG   \n",
       "3        29  20210124_GD_ZC_HS_MetBGE_500V_75_25_200mz.raw  F29:393    GGGG   \n",
       "4        30  20210124_GD_ZC_HS_MetBGE_500V_75_25_300mz.raw  F30:789   NGGGA   \n",
       "\n",
       "       Scan  Tag Length  Denovo Score  ALC (%)  length       m/z  z    RT  \\\n",
       "0  F29:1056           4            99       99       4  275.1336  1  3.56   \n",
       "1  F30:1084           5            99       99       5  318.1416  1  3.71   \n",
       "2  F30:1108           5            99       99       5  361.1465  1  3.83   \n",
       "3   F29:966           4            99       99       4  247.1041  1  3.40   \n",
       "4  F30:1127           5            99       99       5  375.1674  1  3.87   \n",
       "\n",
       "  Predict RT  Intensity      Mass   ppm  PTM local confidence (%) tag (>=0%)  \\\n",
       "0          -  1153900.0  274.1277  -4.8  NaN      100 100 100 100       AGGA   \n",
       "1          -  1227100.0  317.1335   2.7  NaN  100 100 100 100 100      AGGGG   \n",
       "2          -   637610.0  360.1393  -0.4  NaN   99 100 100 100 100      NGGGG   \n",
       "3          -  4681300.0  246.0964   1.6  NaN       99 100 100 100       GGGG   \n",
       "4          -   330630.0  374.1550  13.7  NaN   99 100 100 100 100      NGGGA   \n",
       "\n",
       "  mode  \n",
       "0  HCD  \n",
       "1  HCD  \n",
       "2  HCD  \n",
       "3  HCD  \n",
       "4  HCD  "
      ],
      "text/html": "<div>\n<style scoped>\n    .dataframe tbody tr th:only-of-type {\n        vertical-align: middle;\n    }\n\n    .dataframe tbody tr th {\n        vertical-align: top;\n    }\n\n    .dataframe thead th {\n        text-align: right;\n    }\n</style>\n<table border=\"1\" class=\"dataframe\">\n  <thead>\n    <tr style=\"text-align: right;\">\n      <th></th>\n      <th>Fraction</th>\n      <th>Source File</th>\n      <th>Feature</th>\n      <th>Peptide</th>\n      <th>Scan</th>\n      <th>Tag Length</th>\n      <th>Denovo Score</th>\n      <th>ALC (%)</th>\n      <th>length</th>\n      <th>m/z</th>\n      <th>z</th>\n      <th>RT</th>\n      <th>Predict RT</th>\n      <th>Intensity</th>\n      <th>Mass</th>\n      <th>ppm</th>\n      <th>PTM</th>\n      <th>local confidence (%)</th>\n      <th>tag (&gt;=0%)</th>\n      <th>mode</th>\n    </tr>\n  </thead>\n  <tbody>\n    <tr>\n      <th>0</th>\n      <td>29</td>\n      <td>20210124_GD_ZC_HS_MetBGE_500V_75_25_200mz.raw</td>\n      <td>F29:609</td>\n      <td>AGGA</td>\n      <td>F29:1056</td>\n      <td>4</td>\n      <td>99</td>\n      <td>99</td>\n      <td>4</td>\n      <td>275.1336</td>\n      <td>1</td>\n      <td>3.56</td>\n      <td>-</td>\n      <td>1153900.0</td>\n      <td>274.1277</td>\n      <td>-4.8</td>\n      <td>NaN</td>\n      <td>100 100 100 100</td>\n      <td>AGGA</td>\n      <td>HCD</td>\n    </tr>\n    <tr>\n      <th>1</th>\n      <td>30</td>\n      <td>20210124_GD_ZC_HS_MetBGE_500V_75_25_300mz.raw</td>\n      <td>F30:185</td>\n      <td>AGGGG</td>\n      <td>F30:1084</td>\n      <td>5</td>\n      <td>99</td>\n      <td>99</td>\n      <td>5</td>\n      <td>318.1416</td>\n      <td>1</td>\n      <td>3.71</td>\n      <td>-</td>\n      <td>1227100.0</td>\n      <td>317.1335</td>\n      <td>2.7</td>\n      <td>NaN</td>\n      <td>100 100 100 100 100</td>\n      <td>AGGGG</td>\n      <td>HCD</td>\n    </tr>\n    <tr>\n      <th>2</th>\n      <td>30</td>\n      <td>20210124_GD_ZC_HS_MetBGE_500V_75_25_300mz.raw</td>\n      <td>F30:607</td>\n      <td>NGGGG</td>\n      <td>F30:1108</td>\n      <td>5</td>\n      <td>99</td>\n      <td>99</td>\n      <td>5</td>\n      <td>361.1465</td>\n      <td>1</td>\n      <td>3.83</td>\n      <td>-</td>\n      <td>637610.0</td>\n      <td>360.1393</td>\n      <td>-0.4</td>\n      <td>NaN</td>\n      <td>99 100 100 100 100</td>\n      <td>NGGGG</td>\n      <td>HCD</td>\n    </tr>\n    <tr>\n      <th>3</th>\n      <td>29</td>\n      <td>20210124_GD_ZC_HS_MetBGE_500V_75_25_200mz.raw</td>\n      <td>F29:393</td>\n      <td>GGGG</td>\n      <td>F29:966</td>\n      <td>4</td>\n      <td>99</td>\n      <td>99</td>\n      <td>4</td>\n      <td>247.1041</td>\n      <td>1</td>\n      <td>3.40</td>\n      <td>-</td>\n      <td>4681300.0</td>\n      <td>246.0964</td>\n      <td>1.6</td>\n      <td>NaN</td>\n      <td>99 100 100 100</td>\n      <td>GGGG</td>\n      <td>HCD</td>\n    </tr>\n    <tr>\n      <th>4</th>\n      <td>30</td>\n      <td>20210124_GD_ZC_HS_MetBGE_500V_75_25_300mz.raw</td>\n      <td>F30:789</td>\n      <td>NGGGA</td>\n      <td>F30:1127</td>\n      <td>5</td>\n      <td>99</td>\n      <td>99</td>\n      <td>5</td>\n      <td>375.1674</td>\n      <td>1</td>\n      <td>3.87</td>\n      <td>-</td>\n      <td>330630.0</td>\n      <td>374.1550</td>\n      <td>13.7</td>\n      <td>NaN</td>\n      <td>99 100 100 100 100</td>\n      <td>NGGGA</td>\n      <td>HCD</td>\n    </tr>\n  </tbody>\n</table>\n</div>"
     },
     "metadata": {},
     "execution_count": 152
    }
   ],
   "source": [
    "# pull the xml data for use\n",
    "xmls = get_files(directory=r'.\\Peptide Identification', exts=['.mzXML'])\n",
    "\n",
    "# read the data file into dataframe\n",
    "data = r'.\\Peptide Identification\\75_25 de novo peptides\\de novo peptides.csv'\n",
    "df = pd.read_csv(data)\n",
    "df.head()"
   ]
  },
  {
   "cell_type": "code",
   "execution_count": 156,
   "metadata": {},
   "outputs": [
    {
     "output_type": "execute_result",
     "data": {
      "text/plain": [
       "0      1056\n",
       "1      1084\n",
       "2      1108\n",
       "3       966\n",
       "4      1127\n",
       "       ... \n",
       "164     864\n",
       "165    1097\n",
       "166    1255\n",
       "167    1106\n",
       "168    1146\n",
       "Name: 1, Length: 169, dtype: object"
      ]
     },
     "metadata": {},
     "execution_count": 156
    }
   ],
   "source": [
    "df.Scan.str.split(':', expand=True)[1]"
   ]
  },
  {
   "cell_type": "code",
   "execution_count": 157,
   "metadata": {},
   "outputs": [],
   "source": [
    "def filter_peps(s):\n",
    "    '''\n",
    "    Function to parse peptide sequences and return boolean of\n",
    "    entities that match our expected output.\n",
    "\n",
    "\n",
    "    :param s: (str) peptide sequence string\n",
    "    '''\n",
    "    s = {let : s.count(let) for let in s.upper()}\n",
    "    keys = list(s.keys())\n",
    "    if len(keys) > 2:\n",
    "        return False\n",
    "    elif len(keys) == 2:\n",
    "        if sorted(keys) == ['A', 'G']:\n",
    "            return True\n",
    "    elif len(keys) == 1:\n",
    "        if keys[0] in ['A', 'G']:\n",
    "            return True\n",
    "    return False\n",
    "\n",
    "# check to see if peptide is valid for our experiment\n",
    "df.loc[:, 'passes'] = df.Peptide.map(filter_peps)\n",
    "\n",
    "# use pandas string methods to split scan and feature number\n",
    "# keep only the scan number\n",
    "df.loc[:, 'Scan'] = df.Scan.str.split(':', expand=True)[1]\n",
    "\n",
    "valid = df[df.passes==True]"
   ]
  },
  {
   "cell_type": "code",
   "execution_count": 158,
   "metadata": {},
   "outputs": [
    {
     "output_type": "execute_result",
     "data": {
      "text/plain": [
       "    Fraction                                    Source File  Feature Peptide  \\\n",
       "0         29  20210124_GD_ZC_HS_MetBGE_500V_75_25_200mz.raw  F29:609    AGGA   \n",
       "1         30  20210124_GD_ZC_HS_MetBGE_500V_75_25_300mz.raw  F30:185   AGGGG   \n",
       "3         29  20210124_GD_ZC_HS_MetBGE_500V_75_25_200mz.raw  F29:393    GGGG   \n",
       "5         30  20210124_GD_ZC_HS_MetBGE_500V_75_25_300mz.raw  F30:972  AGGGGA   \n",
       "6         30  20210124_GD_ZC_HS_MetBGE_500V_75_25_300mz.raw  F30:787  AGGGGG   \n",
       "8         30  20210124_GD_ZC_HS_MetBGE_500V_75_25_300mz.raw        -   AAGGA   \n",
       "10        30  20210124_GD_ZC_HS_MetBGE_500V_75_25_300mz.raw  F30:971  AAGGGG   \n",
       "19        29  20210124_GD_ZC_HS_MetBGE_500V_75_25_200mz.raw  F29:610    GGAA   \n",
       "33        29  20210124_GD_ZC_HS_MetBGE_500V_75_25_200mz.raw  F29:392    GGGG   \n",
       "34        29  20210124_GD_ZC_HS_MetBGE_500V_75_25_200mz.raw  F29:394    GGGG   \n",
       "56        29  20210124_GD_ZC_HS_MetBGE_500V_75_25_200mz.raw  F29:608    AGAG   \n",
       "\n",
       "    Scan  Tag Length  Denovo Score  ALC (%)  length       m/z  ...    RT  \\\n",
       "0   1056           4            99       99       4  275.1336  ...  3.56   \n",
       "1   1084           5            99       99       5  318.1416  ...  3.71   \n",
       "3    966           4            99       99       4  247.1041  ...  3.40   \n",
       "5   1135           6            99       99       6  389.1786  ...  3.91   \n",
       "6   1127           6            99       99       6  375.1611  ...  3.87   \n",
       "8   1110           5            98       98       5  346.1712  ...  3.82   \n",
       "10  1135           6            96       96       6  389.1720  ...  3.91   \n",
       "19  1056           4            91       91       4  275.1375  ...  3.56   \n",
       "33   966           4            81       81       4  247.1008  ...  3.40   \n",
       "34   966           4            81       81       4  247.1074  ...  3.40   \n",
       "56  1056           4            73       73       4  275.1297  ...  3.56   \n",
       "\n",
       "    Predict RT  Intensity      Mass   ppm  PTM   local confidence (%)  \\\n",
       "0            -  1153900.0  274.1277  -4.8  NaN        100 100 100 100   \n",
       "1            -  1227100.0  317.1335   2.7  NaN    100 100 100 100 100   \n",
       "3            -  4681300.0  246.0964   1.6  NaN         99 100 100 100   \n",
       "5            -   100540.0  388.1706   1.7  NaN   99 99 100 100 100 99   \n",
       "6            -   391300.0  374.1550  -3.0  NaN  98 99 100 100 100 100   \n",
       "8            -        0.0  345.1648  -2.5  NaN        95 97 100 99 98   \n",
       "10           -    76629.0  388.1706 -15.2  NaN   95 88 95 100 100 100   \n",
       "19           -  1230300.0  274.1277   9.4  NaN            99 73 94 98   \n",
       "33           -  3719000.0  246.0964 -11.9  NaN            80 74 86 81   \n",
       "34           -  3565800.0  246.0964  15.1  NaN            80 74 86 81   \n",
       "56           -   727530.0  274.1277 -19.1  NaN            79 75 66 72   \n",
       "\n",
       "   tag (>=0%) mode passes  \n",
       "0        AGGA  HCD   True  \n",
       "1       AGGGG  HCD   True  \n",
       "3        GGGG  HCD   True  \n",
       "5      AGGGGA  HCD   True  \n",
       "6      AGGGGG  HCD   True  \n",
       "8       AAGGA  HCD   True  \n",
       "10     AAGGGG  HCD   True  \n",
       "19       GGAA  HCD   True  \n",
       "33       GGGG  HCD   True  \n",
       "34       GGGG  HCD   True  \n",
       "56       AGAG  HCD   True  \n",
       "\n",
       "[11 rows x 21 columns]"
      ],
      "text/html": "<div>\n<style scoped>\n    .dataframe tbody tr th:only-of-type {\n        vertical-align: middle;\n    }\n\n    .dataframe tbody tr th {\n        vertical-align: top;\n    }\n\n    .dataframe thead th {\n        text-align: right;\n    }\n</style>\n<table border=\"1\" class=\"dataframe\">\n  <thead>\n    <tr style=\"text-align: right;\">\n      <th></th>\n      <th>Fraction</th>\n      <th>Source File</th>\n      <th>Feature</th>\n      <th>Peptide</th>\n      <th>Scan</th>\n      <th>Tag Length</th>\n      <th>Denovo Score</th>\n      <th>ALC (%)</th>\n      <th>length</th>\n      <th>m/z</th>\n      <th>...</th>\n      <th>RT</th>\n      <th>Predict RT</th>\n      <th>Intensity</th>\n      <th>Mass</th>\n      <th>ppm</th>\n      <th>PTM</th>\n      <th>local confidence (%)</th>\n      <th>tag (&gt;=0%)</th>\n      <th>mode</th>\n      <th>passes</th>\n    </tr>\n  </thead>\n  <tbody>\n    <tr>\n      <th>0</th>\n      <td>29</td>\n      <td>20210124_GD_ZC_HS_MetBGE_500V_75_25_200mz.raw</td>\n      <td>F29:609</td>\n      <td>AGGA</td>\n      <td>1056</td>\n      <td>4</td>\n      <td>99</td>\n      <td>99</td>\n      <td>4</td>\n      <td>275.1336</td>\n      <td>...</td>\n      <td>3.56</td>\n      <td>-</td>\n      <td>1153900.0</td>\n      <td>274.1277</td>\n      <td>-4.8</td>\n      <td>NaN</td>\n      <td>100 100 100 100</td>\n      <td>AGGA</td>\n      <td>HCD</td>\n      <td>True</td>\n    </tr>\n    <tr>\n      <th>1</th>\n      <td>30</td>\n      <td>20210124_GD_ZC_HS_MetBGE_500V_75_25_300mz.raw</td>\n      <td>F30:185</td>\n      <td>AGGGG</td>\n      <td>1084</td>\n      <td>5</td>\n      <td>99</td>\n      <td>99</td>\n      <td>5</td>\n      <td>318.1416</td>\n      <td>...</td>\n      <td>3.71</td>\n      <td>-</td>\n      <td>1227100.0</td>\n      <td>317.1335</td>\n      <td>2.7</td>\n      <td>NaN</td>\n      <td>100 100 100 100 100</td>\n      <td>AGGGG</td>\n      <td>HCD</td>\n      <td>True</td>\n    </tr>\n    <tr>\n      <th>3</th>\n      <td>29</td>\n      <td>20210124_GD_ZC_HS_MetBGE_500V_75_25_200mz.raw</td>\n      <td>F29:393</td>\n      <td>GGGG</td>\n      <td>966</td>\n      <td>4</td>\n      <td>99</td>\n      <td>99</td>\n      <td>4</td>\n      <td>247.1041</td>\n      <td>...</td>\n      <td>3.40</td>\n      <td>-</td>\n      <td>4681300.0</td>\n      <td>246.0964</td>\n      <td>1.6</td>\n      <td>NaN</td>\n      <td>99 100 100 100</td>\n      <td>GGGG</td>\n      <td>HCD</td>\n      <td>True</td>\n    </tr>\n    <tr>\n      <th>5</th>\n      <td>30</td>\n      <td>20210124_GD_ZC_HS_MetBGE_500V_75_25_300mz.raw</td>\n      <td>F30:972</td>\n      <td>AGGGGA</td>\n      <td>1135</td>\n      <td>6</td>\n      <td>99</td>\n      <td>99</td>\n      <td>6</td>\n      <td>389.1786</td>\n      <td>...</td>\n      <td>3.91</td>\n      <td>-</td>\n      <td>100540.0</td>\n      <td>388.1706</td>\n      <td>1.7</td>\n      <td>NaN</td>\n      <td>99 99 100 100 100 99</td>\n      <td>AGGGGA</td>\n      <td>HCD</td>\n      <td>True</td>\n    </tr>\n    <tr>\n      <th>6</th>\n      <td>30</td>\n      <td>20210124_GD_ZC_HS_MetBGE_500V_75_25_300mz.raw</td>\n      <td>F30:787</td>\n      <td>AGGGGG</td>\n      <td>1127</td>\n      <td>6</td>\n      <td>99</td>\n      <td>99</td>\n      <td>6</td>\n      <td>375.1611</td>\n      <td>...</td>\n      <td>3.87</td>\n      <td>-</td>\n      <td>391300.0</td>\n      <td>374.1550</td>\n      <td>-3.0</td>\n      <td>NaN</td>\n      <td>98 99 100 100 100 100</td>\n      <td>AGGGGG</td>\n      <td>HCD</td>\n      <td>True</td>\n    </tr>\n    <tr>\n      <th>8</th>\n      <td>30</td>\n      <td>20210124_GD_ZC_HS_MetBGE_500V_75_25_300mz.raw</td>\n      <td>-</td>\n      <td>AAGGA</td>\n      <td>1110</td>\n      <td>5</td>\n      <td>98</td>\n      <td>98</td>\n      <td>5</td>\n      <td>346.1712</td>\n      <td>...</td>\n      <td>3.82</td>\n      <td>-</td>\n      <td>0.0</td>\n      <td>345.1648</td>\n      <td>-2.5</td>\n      <td>NaN</td>\n      <td>95 97 100 99 98</td>\n      <td>AAGGA</td>\n      <td>HCD</td>\n      <td>True</td>\n    </tr>\n    <tr>\n      <th>10</th>\n      <td>30</td>\n      <td>20210124_GD_ZC_HS_MetBGE_500V_75_25_300mz.raw</td>\n      <td>F30:971</td>\n      <td>AAGGGG</td>\n      <td>1135</td>\n      <td>6</td>\n      <td>96</td>\n      <td>96</td>\n      <td>6</td>\n      <td>389.1720</td>\n      <td>...</td>\n      <td>3.91</td>\n      <td>-</td>\n      <td>76629.0</td>\n      <td>388.1706</td>\n      <td>-15.2</td>\n      <td>NaN</td>\n      <td>95 88 95 100 100 100</td>\n      <td>AAGGGG</td>\n      <td>HCD</td>\n      <td>True</td>\n    </tr>\n    <tr>\n      <th>19</th>\n      <td>29</td>\n      <td>20210124_GD_ZC_HS_MetBGE_500V_75_25_200mz.raw</td>\n      <td>F29:610</td>\n      <td>GGAA</td>\n      <td>1056</td>\n      <td>4</td>\n      <td>91</td>\n      <td>91</td>\n      <td>4</td>\n      <td>275.1375</td>\n      <td>...</td>\n      <td>3.56</td>\n      <td>-</td>\n      <td>1230300.0</td>\n      <td>274.1277</td>\n      <td>9.4</td>\n      <td>NaN</td>\n      <td>99 73 94 98</td>\n      <td>GGAA</td>\n      <td>HCD</td>\n      <td>True</td>\n    </tr>\n    <tr>\n      <th>33</th>\n      <td>29</td>\n      <td>20210124_GD_ZC_HS_MetBGE_500V_75_25_200mz.raw</td>\n      <td>F29:392</td>\n      <td>GGGG</td>\n      <td>966</td>\n      <td>4</td>\n      <td>81</td>\n      <td>81</td>\n      <td>4</td>\n      <td>247.1008</td>\n      <td>...</td>\n      <td>3.40</td>\n      <td>-</td>\n      <td>3719000.0</td>\n      <td>246.0964</td>\n      <td>-11.9</td>\n      <td>NaN</td>\n      <td>80 74 86 81</td>\n      <td>GGGG</td>\n      <td>HCD</td>\n      <td>True</td>\n    </tr>\n    <tr>\n      <th>34</th>\n      <td>29</td>\n      <td>20210124_GD_ZC_HS_MetBGE_500V_75_25_200mz.raw</td>\n      <td>F29:394</td>\n      <td>GGGG</td>\n      <td>966</td>\n      <td>4</td>\n      <td>81</td>\n      <td>81</td>\n      <td>4</td>\n      <td>247.1074</td>\n      <td>...</td>\n      <td>3.40</td>\n      <td>-</td>\n      <td>3565800.0</td>\n      <td>246.0964</td>\n      <td>15.1</td>\n      <td>NaN</td>\n      <td>80 74 86 81</td>\n      <td>GGGG</td>\n      <td>HCD</td>\n      <td>True</td>\n    </tr>\n    <tr>\n      <th>56</th>\n      <td>29</td>\n      <td>20210124_GD_ZC_HS_MetBGE_500V_75_25_200mz.raw</td>\n      <td>F29:608</td>\n      <td>AGAG</td>\n      <td>1056</td>\n      <td>4</td>\n      <td>73</td>\n      <td>73</td>\n      <td>4</td>\n      <td>275.1297</td>\n      <td>...</td>\n      <td>3.56</td>\n      <td>-</td>\n      <td>727530.0</td>\n      <td>274.1277</td>\n      <td>-19.1</td>\n      <td>NaN</td>\n      <td>79 75 66 72</td>\n      <td>AGAG</td>\n      <td>HCD</td>\n      <td>True</td>\n    </tr>\n  </tbody>\n</table>\n<p>11 rows × 21 columns</p>\n</div>"
     },
     "metadata": {},
     "execution_count": 158
    }
   ],
   "source": [
    "valid"
   ]
  },
  {
   "cell_type": "code",
   "execution_count": 159,
   "metadata": {},
   "outputs": [],
   "source": [
    "# this function is typically called from my 'commons' library because I use it often\n",
    "# I have displayed it here for illustration\n",
    "\n",
    "def plot_ms2_data(xs, ys, peptide, frag_dict, mods=None, show_error=False, tolerance=25):\n",
    "    '''\n",
    "    Function to return altair plot of identified fragments for a theoretical \n",
    "    peptide.\n",
    "\n",
    "    :param xs: (array) x/time data\n",
    "    :param ys: (array) intensity data\n",
    "    :param peptide: (string) peptide sequence\n",
    "    :param frag_dict: (dict) output returned from data_processing.fragments func\n",
    "    '''\n",
    "    df = pd.DataFrame({\n",
    "        'x':xs, 'y':ys,\n",
    "        'fragment':['None']*len(xs),\n",
    "        'label':['']*len(xs)\n",
    "    })\n",
    "    df.loc[:, 'y'] = df.y / np.max(df.y) * 100\n",
    "    df['label position'] = df.y + 5\n",
    "\n",
    "    err_mass, err_dist, err_kind= [], [], []\n",
    "\n",
    "    if mods is not None:\n",
    "        assert isinstance(mods, dict), 'modifications must enter as dictionary'\n",
    "        for k in mods:\n",
    "            frag_dict[k] = mods[k]\n",
    "\n",
    "    for k, v in frag_dict.items():\n",
    "        for frag in v:\n",
    "            nearest = find_nearest(df.x, frag)\n",
    "            error = mass_error(frag, nearest)\n",
    "            if abs(error) <= tolerance:\n",
    "                err_mass.append(nearest)\n",
    "                err_dist.append(error)\n",
    "                err_kind.append(k)\n",
    "                df.loc[(df.x==nearest), 'fragment'] = k\n",
    "                df.loc[(df.x==nearest), 'label'] = k+f'{v.index(frag)+1}'\n",
    "    \n",
    "    dom = {\n",
    "        'b': '#3b5bad',\n",
    "        'y': '#c42e23'\n",
    "    }\n",
    "    \n",
    "    bars = alt.Chart(df).mark_bar(size=2).encode(\n",
    "        x=alt.X('x', title='m/z', axis=alt.Axis(grid=False)),\n",
    "        y=alt.Y('y', title='Relative Abundance',\n",
    "                axis=alt.Axis(grid=False, tickCount=1),\n",
    "                scale=alt.Scale(domain=(0, 100))),\n",
    "        color=alt.Color('fragment', scale=alt.Scale(domain=list(dom.keys()),\n",
    "                        range=list(dom.values())), legend=None)\n",
    "    ).properties(\n",
    "        title=peptide\n",
    "    )\n",
    "\n",
    "    text = alt.Chart(df).mark_text().encode(\n",
    "        y=alt.Y('label position'),\n",
    "        x=alt.X('x'),\n",
    "        text='label'\n",
    "    )\n",
    "    chart = alt.vconcat()\n",
    "    chart &= alt.layer(bars, text)\n",
    "    \n",
    "    if show_error:\n",
    "        err_df = pd.DataFrame({\n",
    "            'mass':err_mass,\n",
    "            'error':err_dist,\n",
    "            'kind':err_kind\n",
    "        })\n",
    "        dots = alt.Chart(err_df).mark_circle().encode(\n",
    "            x=alt.X('mass:Q', title='m/z', axis=alt.Axis(grid=False)),\n",
    "            y=alt.Y('error:Q', title='error (ppm)', axis=alt.Axis(grid=True, tickCount=3),\n",
    "                    scale=alt.Scale(domain=(-tolerance, tolerance))),\n",
    "            color=alt.Color('kind:O', scale=alt.Scale(domain=list(dom.keys()), range=list(dom.values()))\n",
    "            )).properties(height=100)\n",
    "\n",
    "        line = alt.Chart(pd.DataFrame({'y': [0]})).mark_rule(\n",
    "            strokeDash=[10, 10]).encode(y='y')\n",
    "\n",
    "\n",
    "        chart &= (dots + line)\n",
    "    \n",
    "    return chart"
   ]
  },
  {
   "cell_type": "code",
   "execution_count": 161,
   "metadata": {},
   "outputs": [
    {
     "output_type": "execute_result",
     "data": {
      "text/html": "\n<div id=\"altair-viz-c916e0db779a489689f6c07515963ce1\"></div>\n<script type=\"text/javascript\">\n  (function(spec, embedOpt){\n    let outputDiv = document.currentScript.previousElementSibling;\n    if (outputDiv.id !== \"altair-viz-c916e0db779a489689f6c07515963ce1\") {\n      outputDiv = document.getElementById(\"altair-viz-c916e0db779a489689f6c07515963ce1\");\n    }\n    const paths = {\n      \"vega\": \"https://cdn.jsdelivr.net/npm//vega@5?noext\",\n      \"vega-lib\": \"https://cdn.jsdelivr.net/npm//vega-lib?noext\",\n      \"vega-lite\": \"https://cdn.jsdelivr.net/npm//vega-lite@4.8.1?noext\",\n      \"vega-embed\": \"https://cdn.jsdelivr.net/npm//vega-embed@6?noext\",\n    };\n\n    function loadScript(lib) {\n      return new Promise(function(resolve, reject) {\n        var s = document.createElement('script');\n        s.src = paths[lib];\n        s.async = true;\n        s.onload = () => resolve(paths[lib]);\n        s.onerror = () => reject(`Error loading script: ${paths[lib]}`);\n        document.getElementsByTagName(\"head\")[0].appendChild(s);\n      });\n    }\n\n    function showError(err) {\n      outputDiv.innerHTML = `<div class=\"error\" style=\"color:red;\">${err}</div>`;\n      throw err;\n    }\n\n    function displayChart(vegaEmbed) {\n      vegaEmbed(outputDiv, spec, embedOpt)\n        .catch(err => showError(`Javascript Error: ${err.message}<br>This usually means there's a typo in your chart specification. See the javascript console for the full traceback.`));\n    }\n\n    if(typeof define === \"function\" && define.amd) {\n      requirejs.config({paths});\n      require([\"vega-embed\"], displayChart, err => showError(`Error loading script: ${err.message}`));\n    } else if (typeof vegaEmbed === \"function\") {\n      displayChart(vegaEmbed);\n    } else {\n      loadScript(\"vega\")\n        .then(() => loadScript(\"vega-lite\"))\n        .then(() => loadScript(\"vega-embed\"))\n        .catch(showError)\n        .then(() => displayChart(vegaEmbed));\n    }\n  })({\"config\": {\"view\": {\"continuousWidth\": 400, \"continuousHeight\": 300, \"strokeWidth\": 0}}, \"vconcat\": [{\"vconcat\": [{\"layer\": [{\"mark\": {\"type\": \"bar\", \"size\": 2}, \"encoding\": {\"color\": {\"type\": \"nominal\", \"field\": \"fragment\", \"legend\": null, \"scale\": {\"domain\": [\"b\", \"y\"], \"range\": [\"#3b5bad\", \"#c42e23\"]}}, \"x\": {\"type\": \"quantitative\", \"axis\": {\"grid\": false}, \"field\": \"x\", \"title\": \"m/z\"}, \"y\": {\"type\": \"quantitative\", \"axis\": {\"grid\": false, \"tickCount\": 1}, \"field\": \"y\", \"scale\": {\"domain\": [0, 100]}, \"title\": \"Relative Abundance\"}}, \"title\": \"AGGA\"}, {\"mark\": \"text\", \"encoding\": {\"text\": {\"type\": \"nominal\", \"field\": \"label\"}, \"x\": {\"type\": \"quantitative\", \"field\": \"x\"}, \"y\": {\"type\": \"quantitative\", \"field\": \"label position\"}}}]}, {\"layer\": [{\"data\": {\"name\": \"data-a4d17c9c68ef6f74912fed8c77d5dbf9\"}, \"mark\": \"circle\", \"encoding\": {\"color\": {\"type\": \"ordinal\", \"field\": \"kind\", \"scale\": {\"domain\": [\"b\", \"y\"], \"range\": [\"#3b5bad\", \"#c42e23\"]}}, \"x\": {\"type\": \"quantitative\", \"axis\": {\"grid\": false}, \"field\": \"mass\", \"title\": \"m/z\"}, \"y\": {\"type\": \"quantitative\", \"axis\": {\"grid\": true, \"tickCount\": 3}, \"field\": \"error\", \"scale\": {\"domain\": [-25, 25]}, \"title\": \"error (ppm)\"}}, \"height\": 100}, {\"data\": {\"name\": \"data-06fd9f850666401b4599de5588b60692\"}, \"mark\": {\"type\": \"rule\", \"strokeDash\": [10, 10]}, \"encoding\": {\"y\": {\"type\": \"quantitative\", \"field\": \"y\"}}}]}], \"resolve\": {\"scale\": {\"x\": \"shared\"}}}, {\"vconcat\": [{\"layer\": [{\"mark\": {\"type\": \"bar\", \"size\": 2}, \"encoding\": {\"color\": {\"type\": \"nominal\", \"field\": \"fragment\", \"legend\": null, \"scale\": {\"domain\": [\"b\", \"y\"], \"range\": [\"#3b5bad\", \"#c42e23\"]}}, \"x\": {\"type\": \"quantitative\", \"axis\": {\"grid\": false}, \"field\": \"x\", \"title\": \"m/z\"}, \"y\": {\"type\": \"quantitative\", \"axis\": {\"grid\": false, \"tickCount\": 1}, \"field\": \"y\", \"scale\": {\"domain\": [0, 100]}, \"title\": \"Relative Abundance\"}}, \"title\": \"AGGGG\"}, {\"mark\": \"text\", \"encoding\": {\"text\": {\"type\": \"nominal\", \"field\": \"label\"}, \"x\": {\"type\": \"quantitative\", \"field\": \"x\"}, \"y\": {\"type\": \"quantitative\", \"field\": \"label position\"}}}]}, {\"layer\": [{\"data\": {\"name\": \"data-dd5037cd937153598d7790386b85d7ab\"}, \"mark\": \"circle\", \"encoding\": {\"color\": {\"type\": \"ordinal\", \"field\": \"kind\", \"scale\": {\"domain\": [\"b\", \"y\"], \"range\": [\"#3b5bad\", \"#c42e23\"]}}, \"x\": {\"type\": \"quantitative\", \"axis\": {\"grid\": false}, \"field\": \"mass\", \"title\": \"m/z\"}, \"y\": {\"type\": \"quantitative\", \"axis\": {\"grid\": true, \"tickCount\": 3}, \"field\": \"error\", \"scale\": {\"domain\": [-25, 25]}, \"title\": \"error (ppm)\"}}, \"height\": 100}, {\"data\": {\"name\": \"data-06fd9f850666401b4599de5588b60692\"}, \"mark\": {\"type\": \"rule\", \"strokeDash\": [10, 10]}, \"encoding\": {\"y\": {\"type\": \"quantitative\", \"field\": \"y\"}}}]}], \"data\": {\"name\": \"data-a4a1ef4a5429a98f162c5a2463c45601\"}, \"resolve\": {\"scale\": {\"x\": \"shared\"}}}, {\"vconcat\": [{\"layer\": [{\"mark\": {\"type\": \"bar\", \"size\": 2}, \"encoding\": {\"color\": {\"type\": \"nominal\", \"field\": \"fragment\", \"legend\": null, \"scale\": {\"domain\": [\"b\", \"y\"], \"range\": [\"#3b5bad\", \"#c42e23\"]}}, \"x\": {\"type\": \"quantitative\", \"axis\": {\"grid\": false}, \"field\": \"x\", \"title\": \"m/z\"}, \"y\": {\"type\": \"quantitative\", \"axis\": {\"grid\": false, \"tickCount\": 1}, \"field\": \"y\", \"scale\": {\"domain\": [0, 100]}, \"title\": \"Relative Abundance\"}}, \"title\": \"GGGG\"}, {\"mark\": \"text\", \"encoding\": {\"text\": {\"type\": \"nominal\", \"field\": \"label\"}, \"x\": {\"type\": \"quantitative\", \"field\": \"x\"}, \"y\": {\"type\": \"quantitative\", \"field\": \"label position\"}}}]}, {\"layer\": [{\"data\": {\"name\": \"data-edc6bd14dfb4a176581d7fcb4deb10d4\"}, \"mark\": \"circle\", \"encoding\": {\"color\": {\"type\": \"ordinal\", \"field\": \"kind\", \"scale\": {\"domain\": [\"b\", \"y\"], \"range\": [\"#3b5bad\", \"#c42e23\"]}}, \"x\": {\"type\": \"quantitative\", \"axis\": {\"grid\": false}, \"field\": \"mass\", \"title\": \"m/z\"}, \"y\": {\"type\": \"quantitative\", \"axis\": {\"grid\": true, \"tickCount\": 3}, \"field\": \"error\", \"scale\": {\"domain\": [-25, 25]}, \"title\": \"error (ppm)\"}}, \"height\": 100}, {\"data\": {\"name\": \"data-06fd9f850666401b4599de5588b60692\"}, \"mark\": {\"type\": \"rule\", \"strokeDash\": [10, 10]}, \"encoding\": {\"y\": {\"type\": \"quantitative\", \"field\": \"y\"}}}]}], \"data\": {\"name\": \"data-17e831c19f5062cb6812f1f09fc6585c\"}, \"resolve\": {\"scale\": {\"x\": \"shared\"}}}, {\"vconcat\": [{\"layer\": [{\"mark\": {\"type\": \"bar\", \"size\": 2}, \"encoding\": {\"color\": {\"type\": \"nominal\", \"field\": \"fragment\", \"legend\": null, \"scale\": {\"domain\": [\"b\", \"y\"], \"range\": [\"#3b5bad\", \"#c42e23\"]}}, \"x\": {\"type\": \"quantitative\", \"axis\": {\"grid\": false}, \"field\": \"x\", \"title\": \"m/z\"}, \"y\": {\"type\": \"quantitative\", \"axis\": {\"grid\": false, \"tickCount\": 1}, \"field\": \"y\", \"scale\": {\"domain\": [0, 100]}, \"title\": \"Relative Abundance\"}}, \"title\": \"AGGGGA\"}, {\"mark\": \"text\", \"encoding\": {\"text\": {\"type\": \"nominal\", \"field\": \"label\"}, \"x\": {\"type\": \"quantitative\", \"field\": \"x\"}, \"y\": {\"type\": \"quantitative\", \"field\": \"label position\"}}}]}, {\"layer\": [{\"data\": {\"name\": \"data-d43287e1ac399886350b37102a254d56\"}, \"mark\": \"circle\", \"encoding\": {\"color\": {\"type\": \"ordinal\", \"field\": \"kind\", \"scale\": {\"domain\": [\"b\", \"y\"], \"range\": [\"#3b5bad\", \"#c42e23\"]}}, \"x\": {\"type\": \"quantitative\", \"axis\": {\"grid\": false}, \"field\": \"mass\", \"title\": \"m/z\"}, \"y\": {\"type\": \"quantitative\", \"axis\": {\"grid\": true, \"tickCount\": 3}, \"field\": \"error\", \"scale\": {\"domain\": [-25, 25]}, \"title\": \"error (ppm)\"}}, \"height\": 100}, {\"data\": {\"name\": \"data-06fd9f850666401b4599de5588b60692\"}, \"mark\": {\"type\": \"rule\", \"strokeDash\": [10, 10]}, \"encoding\": {\"y\": {\"type\": \"quantitative\", \"field\": \"y\"}}}]}], \"data\": {\"name\": \"data-0d764354facc650360bf2279442a71d4\"}, \"resolve\": {\"scale\": {\"x\": \"shared\"}}}, {\"vconcat\": [{\"layer\": [{\"mark\": {\"type\": \"bar\", \"size\": 2}, \"encoding\": {\"color\": {\"type\": \"nominal\", \"field\": \"fragment\", \"legend\": null, \"scale\": {\"domain\": [\"b\", \"y\"], \"range\": [\"#3b5bad\", \"#c42e23\"]}}, \"x\": {\"type\": \"quantitative\", \"axis\": {\"grid\": false}, \"field\": \"x\", \"title\": \"m/z\"}, \"y\": {\"type\": \"quantitative\", \"axis\": {\"grid\": false, \"tickCount\": 1}, \"field\": \"y\", \"scale\": {\"domain\": [0, 100]}, \"title\": \"Relative Abundance\"}}, \"title\": \"AGGGGG\"}, {\"mark\": \"text\", \"encoding\": {\"text\": {\"type\": \"nominal\", \"field\": \"label\"}, \"x\": {\"type\": \"quantitative\", \"field\": \"x\"}, \"y\": {\"type\": \"quantitative\", \"field\": \"label position\"}}}]}, {\"layer\": [{\"data\": {\"name\": \"data-84cdd6086da9e5ba99d5ee6da802f316\"}, \"mark\": \"circle\", \"encoding\": {\"color\": {\"type\": \"ordinal\", \"field\": \"kind\", \"scale\": {\"domain\": [\"b\", \"y\"], \"range\": [\"#3b5bad\", \"#c42e23\"]}}, \"x\": {\"type\": \"quantitative\", \"axis\": {\"grid\": false}, \"field\": \"mass\", \"title\": \"m/z\"}, \"y\": {\"type\": \"quantitative\", \"axis\": {\"grid\": true, \"tickCount\": 3}, \"field\": \"error\", \"scale\": {\"domain\": [-25, 25]}, \"title\": \"error (ppm)\"}}, \"height\": 100}, {\"data\": {\"name\": \"data-06fd9f850666401b4599de5588b60692\"}, \"mark\": {\"type\": \"rule\", \"strokeDash\": [10, 10]}, \"encoding\": {\"y\": {\"type\": \"quantitative\", \"field\": \"y\"}}}]}], \"data\": {\"name\": \"data-3b266f9a2a19048865dc702e8217daf0\"}, \"resolve\": {\"scale\": {\"x\": \"shared\"}}}, {\"vconcat\": [{\"layer\": [{\"mark\": {\"type\": \"bar\", \"size\": 2}, \"encoding\": {\"color\": {\"type\": \"nominal\", \"field\": \"fragment\", \"legend\": null, \"scale\": {\"domain\": [\"b\", \"y\"], \"range\": [\"#3b5bad\", \"#c42e23\"]}}, \"x\": {\"type\": \"quantitative\", \"axis\": {\"grid\": false}, \"field\": \"x\", \"title\": \"m/z\"}, \"y\": {\"type\": \"quantitative\", \"axis\": {\"grid\": false, \"tickCount\": 1}, \"field\": \"y\", \"scale\": {\"domain\": [0, 100]}, \"title\": \"Relative Abundance\"}}, \"title\": \"AAGGA\"}, {\"mark\": \"text\", \"encoding\": {\"text\": {\"type\": \"nominal\", \"field\": \"label\"}, \"x\": {\"type\": \"quantitative\", \"field\": \"x\"}, \"y\": {\"type\": \"quantitative\", \"field\": \"label position\"}}}]}, {\"layer\": [{\"data\": {\"name\": \"data-f419d5c57019707d2b8da9ecdf3e7a60\"}, \"mark\": \"circle\", \"encoding\": {\"color\": {\"type\": \"ordinal\", \"field\": \"kind\", \"scale\": {\"domain\": [\"b\", \"y\"], \"range\": [\"#3b5bad\", \"#c42e23\"]}}, \"x\": {\"type\": \"quantitative\", \"axis\": {\"grid\": false}, \"field\": \"mass\", \"title\": \"m/z\"}, \"y\": {\"type\": \"quantitative\", \"axis\": {\"grid\": true, \"tickCount\": 3}, \"field\": \"error\", \"scale\": {\"domain\": [-25, 25]}, \"title\": \"error (ppm)\"}}, \"height\": 100}, {\"data\": {\"name\": \"data-06fd9f850666401b4599de5588b60692\"}, \"mark\": {\"type\": \"rule\", \"strokeDash\": [10, 10]}, \"encoding\": {\"y\": {\"type\": \"quantitative\", \"field\": \"y\"}}}]}], \"data\": {\"name\": \"data-1616783219377838c44a05dc4460c6da\"}, \"resolve\": {\"scale\": {\"x\": \"shared\"}}}, {\"vconcat\": [{\"layer\": [{\"mark\": {\"type\": \"bar\", \"size\": 2}, \"encoding\": {\"color\": {\"type\": \"nominal\", \"field\": \"fragment\", \"legend\": null, \"scale\": {\"domain\": [\"b\", \"y\"], \"range\": [\"#3b5bad\", \"#c42e23\"]}}, \"x\": {\"type\": \"quantitative\", \"axis\": {\"grid\": false}, \"field\": \"x\", \"title\": \"m/z\"}, \"y\": {\"type\": \"quantitative\", \"axis\": {\"grid\": false, \"tickCount\": 1}, \"field\": \"y\", \"scale\": {\"domain\": [0, 100]}, \"title\": \"Relative Abundance\"}}, \"title\": \"AAGGGG\"}, {\"mark\": \"text\", \"encoding\": {\"text\": {\"type\": \"nominal\", \"field\": \"label\"}, \"x\": {\"type\": \"quantitative\", \"field\": \"x\"}, \"y\": {\"type\": \"quantitative\", \"field\": \"label position\"}}}]}, {\"layer\": [{\"data\": {\"name\": \"data-41759499714714481234e59bceb5816e\"}, \"mark\": \"circle\", \"encoding\": {\"color\": {\"type\": \"ordinal\", \"field\": \"kind\", \"scale\": {\"domain\": [\"b\", \"y\"], \"range\": [\"#3b5bad\", \"#c42e23\"]}}, \"x\": {\"type\": \"quantitative\", \"axis\": {\"grid\": false}, \"field\": \"mass\", \"title\": \"m/z\"}, \"y\": {\"type\": \"quantitative\", \"axis\": {\"grid\": true, \"tickCount\": 3}, \"field\": \"error\", \"scale\": {\"domain\": [-25, 25]}, \"title\": \"error (ppm)\"}}, \"height\": 100}, {\"data\": {\"name\": \"data-06fd9f850666401b4599de5588b60692\"}, \"mark\": {\"type\": \"rule\", \"strokeDash\": [10, 10]}, \"encoding\": {\"y\": {\"type\": \"quantitative\", \"field\": \"y\"}}}]}], \"data\": {\"name\": \"data-e8b2a5dbd0399970b408e1a88fc15f24\"}, \"resolve\": {\"scale\": {\"x\": \"shared\"}}}, {\"vconcat\": [{\"layer\": [{\"mark\": {\"type\": \"bar\", \"size\": 2}, \"encoding\": {\"color\": {\"type\": \"nominal\", \"field\": \"fragment\", \"legend\": null, \"scale\": {\"domain\": [\"b\", \"y\"], \"range\": [\"#3b5bad\", \"#c42e23\"]}}, \"x\": {\"type\": \"quantitative\", \"axis\": {\"grid\": false}, \"field\": \"x\", \"title\": \"m/z\"}, \"y\": {\"type\": \"quantitative\", \"axis\": {\"grid\": false, \"tickCount\": 1}, \"field\": \"y\", \"scale\": {\"domain\": [0, 100]}, \"title\": \"Relative Abundance\"}}, \"title\": \"GGAA\"}, {\"mark\": \"text\", \"encoding\": {\"text\": {\"type\": \"nominal\", \"field\": \"label\"}, \"x\": {\"type\": \"quantitative\", \"field\": \"x\"}, \"y\": {\"type\": \"quantitative\", \"field\": \"label position\"}}}]}, {\"layer\": [{\"data\": {\"name\": \"data-6a99b3ef0c4d3cfff968cfcc73d7a9f6\"}, \"mark\": \"circle\", \"encoding\": {\"color\": {\"type\": \"ordinal\", \"field\": \"kind\", \"scale\": {\"domain\": [\"b\", \"y\"], \"range\": [\"#3b5bad\", \"#c42e23\"]}}, \"x\": {\"type\": \"quantitative\", \"axis\": {\"grid\": false}, \"field\": \"mass\", \"title\": \"m/z\"}, \"y\": {\"type\": \"quantitative\", \"axis\": {\"grid\": true, \"tickCount\": 3}, \"field\": \"error\", \"scale\": {\"domain\": [-25, 25]}, \"title\": \"error (ppm)\"}}, \"height\": 100}, {\"data\": {\"name\": \"data-06fd9f850666401b4599de5588b60692\"}, \"mark\": {\"type\": \"rule\", \"strokeDash\": [10, 10]}, \"encoding\": {\"y\": {\"type\": \"quantitative\", \"field\": \"y\"}}}]}], \"data\": {\"name\": \"data-e586fe022ee5de353221aab12c44ce68\"}, \"resolve\": {\"scale\": {\"x\": \"shared\"}}}, {\"vconcat\": [{\"layer\": [{\"mark\": {\"type\": \"bar\", \"size\": 2}, \"encoding\": {\"color\": {\"type\": \"nominal\", \"field\": \"fragment\", \"legend\": null, \"scale\": {\"domain\": [\"b\", \"y\"], \"range\": [\"#3b5bad\", \"#c42e23\"]}}, \"x\": {\"type\": \"quantitative\", \"axis\": {\"grid\": false}, \"field\": \"x\", \"title\": \"m/z\"}, \"y\": {\"type\": \"quantitative\", \"axis\": {\"grid\": false, \"tickCount\": 1}, \"field\": \"y\", \"scale\": {\"domain\": [0, 100]}, \"title\": \"Relative Abundance\"}}, \"title\": \"GGGG\"}, {\"mark\": \"text\", \"encoding\": {\"text\": {\"type\": \"nominal\", \"field\": \"label\"}, \"x\": {\"type\": \"quantitative\", \"field\": \"x\"}, \"y\": {\"type\": \"quantitative\", \"field\": \"label position\"}}}]}, {\"layer\": [{\"data\": {\"name\": \"data-edc6bd14dfb4a176581d7fcb4deb10d4\"}, \"mark\": \"circle\", \"encoding\": {\"color\": {\"type\": \"ordinal\", \"field\": \"kind\", \"scale\": {\"domain\": [\"b\", \"y\"], \"range\": [\"#3b5bad\", \"#c42e23\"]}}, \"x\": {\"type\": \"quantitative\", \"axis\": {\"grid\": false}, \"field\": \"mass\", \"title\": \"m/z\"}, \"y\": {\"type\": \"quantitative\", \"axis\": {\"grid\": true, \"tickCount\": 3}, \"field\": \"error\", \"scale\": {\"domain\": [-25, 25]}, \"title\": \"error (ppm)\"}}, \"height\": 100}, {\"data\": {\"name\": \"data-06fd9f850666401b4599de5588b60692\"}, \"mark\": {\"type\": \"rule\", \"strokeDash\": [10, 10]}, \"encoding\": {\"y\": {\"type\": \"quantitative\", \"field\": \"y\"}}}]}], \"data\": {\"name\": \"data-17e831c19f5062cb6812f1f09fc6585c\"}, \"resolve\": {\"scale\": {\"x\": \"shared\"}}}, {\"vconcat\": [{\"layer\": [{\"mark\": {\"type\": \"bar\", \"size\": 2}, \"encoding\": {\"color\": {\"type\": \"nominal\", \"field\": \"fragment\", \"legend\": null, \"scale\": {\"domain\": [\"b\", \"y\"], \"range\": [\"#3b5bad\", \"#c42e23\"]}}, \"x\": {\"type\": \"quantitative\", \"axis\": {\"grid\": false}, \"field\": \"x\", \"title\": \"m/z\"}, \"y\": {\"type\": \"quantitative\", \"axis\": {\"grid\": false, \"tickCount\": 1}, \"field\": \"y\", \"scale\": {\"domain\": [0, 100]}, \"title\": \"Relative Abundance\"}}, \"title\": \"GGGG\"}, {\"mark\": \"text\", \"encoding\": {\"text\": {\"type\": \"nominal\", \"field\": \"label\"}, \"x\": {\"type\": \"quantitative\", \"field\": \"x\"}, \"y\": {\"type\": \"quantitative\", \"field\": \"label position\"}}}]}, {\"layer\": [{\"data\": {\"name\": \"data-edc6bd14dfb4a176581d7fcb4deb10d4\"}, \"mark\": \"circle\", \"encoding\": {\"color\": {\"type\": \"ordinal\", \"field\": \"kind\", \"scale\": {\"domain\": [\"b\", \"y\"], \"range\": [\"#3b5bad\", \"#c42e23\"]}}, \"x\": {\"type\": \"quantitative\", \"axis\": {\"grid\": false}, \"field\": \"mass\", \"title\": \"m/z\"}, \"y\": {\"type\": \"quantitative\", \"axis\": {\"grid\": true, \"tickCount\": 3}, \"field\": \"error\", \"scale\": {\"domain\": [-25, 25]}, \"title\": \"error (ppm)\"}}, \"height\": 100}, {\"data\": {\"name\": \"data-06fd9f850666401b4599de5588b60692\"}, \"mark\": {\"type\": \"rule\", \"strokeDash\": [10, 10]}, \"encoding\": {\"y\": {\"type\": \"quantitative\", \"field\": \"y\"}}}]}], \"data\": {\"name\": \"data-17e831c19f5062cb6812f1f09fc6585c\"}, \"resolve\": {\"scale\": {\"x\": \"shared\"}}}, {\"vconcat\": [{\"layer\": [{\"mark\": {\"type\": \"bar\", \"size\": 2}, \"encoding\": {\"color\": {\"type\": \"nominal\", \"field\": \"fragment\", \"legend\": null, \"scale\": {\"domain\": [\"b\", \"y\"], \"range\": [\"#3b5bad\", \"#c42e23\"]}}, \"x\": {\"type\": \"quantitative\", \"axis\": {\"grid\": false}, \"field\": \"x\", \"title\": \"m/z\"}, \"y\": {\"type\": \"quantitative\", \"axis\": {\"grid\": false, \"tickCount\": 1}, \"field\": \"y\", \"scale\": {\"domain\": [0, 100]}, \"title\": \"Relative Abundance\"}}, \"title\": \"AGAG\"}, {\"mark\": \"text\", \"encoding\": {\"text\": {\"type\": \"nominal\", \"field\": \"label\"}, \"x\": {\"type\": \"quantitative\", \"field\": \"x\"}, \"y\": {\"type\": \"quantitative\", \"field\": \"label position\"}}}]}, {\"layer\": [{\"data\": {\"name\": \"data-997222d7842f52ecb7db256e0b052892\"}, \"mark\": \"circle\", \"encoding\": {\"color\": {\"type\": \"ordinal\", \"field\": \"kind\", \"scale\": {\"domain\": [\"b\", \"y\"], \"range\": [\"#3b5bad\", \"#c42e23\"]}}, \"x\": {\"type\": \"quantitative\", \"axis\": {\"grid\": false}, \"field\": \"mass\", \"title\": \"m/z\"}, \"y\": {\"type\": \"quantitative\", \"axis\": {\"grid\": true, \"tickCount\": 3}, \"field\": \"error\", \"scale\": {\"domain\": [-25, 25]}, \"title\": \"error (ppm)\"}}, \"height\": 100}, {\"data\": {\"name\": \"data-06fd9f850666401b4599de5588b60692\"}, \"mark\": {\"type\": \"rule\", \"strokeDash\": [10, 10]}, \"encoding\": {\"y\": {\"type\": \"quantitative\", \"field\": \"y\"}}}]}], \"data\": {\"name\": \"data-f06a9f5e29166482f41ab21924c9ac5d\"}, \"resolve\": {\"scale\": {\"x\": \"shared\"}}}], \"data\": {\"name\": \"data-c2ec5ef7bd32ebbc684e1ff76e9891e8\"}, \"$schema\": \"https://vega.github.io/schema/vega-lite/v4.8.1.json\", \"datasets\": {\"data-c2ec5ef7bd32ebbc684e1ff76e9891e8\": [{\"x\": 101.07087707519531, \"y\": 41.91855464041241, \"fragment\": \"None\", \"label\": \"\", \"label position\": 46.91855464041241}, {\"x\": 129.0660858154297, \"y\": 100.0, \"fragment\": \"b\", \"label\": \"b2\", \"label position\": 105.0}, {\"x\": 147.07681274414062, \"y\": 92.01138084520947, \"fragment\": \"y\", \"label\": \"y2\", \"label position\": 97.01138084520947}, {\"x\": 186.08779907226562, \"y\": 12.721110423112824, \"fragment\": \"b\", \"label\": \"b3\", \"label position\": 17.721110423112826}, {\"x\": 204.0983428955078, \"y\": 30.657585395364183, \"fragment\": \"y\", \"label\": \"y1\", \"label position\": 35.65758539536418}], \"data-a4d17c9c68ef6f74912fed8c77d5dbf9\": [{\"mass\": 129.0660858154297, \"error\": -1.8544659362969829, \"kind\": \"b\"}, {\"mass\": 186.08779907226562, \"error\": -2.6471670796192917, \"kind\": \"b\"}, {\"mass\": 204.0983428955078, \"error\": -2.311361430509428, \"kind\": \"y\"}, {\"mass\": 147.07681274414062, \"error\": -2.7305029467913213, \"kind\": \"y\"}], \"data-06fd9f850666401b4599de5588b60692\": [{\"y\": 0}], \"data-a4a1ef4a5429a98f162c5a2463c45601\": [{\"x\": 57.812286376953125, \"y\": 0.693446578584714, \"fragment\": \"None\", \"label\": \"\", \"label position\": 5.693446578584714}, {\"x\": 60.50419235229492, \"y\": 0.8586216344868318, \"fragment\": \"None\", \"label\": \"\", \"label position\": 5.858621634486832}, {\"x\": 63.33002471923828, \"y\": 0.9302380504632309, \"fragment\": \"None\", \"label\": \"\", \"label position\": 5.930238050463231}, {\"x\": 76.0390853881836, \"y\": 8.599034898788519, \"fragment\": \"y\", \"label\": \"y4\", \"label position\": 13.599034898788519}, {\"x\": 87.05514526367188, \"y\": 16.55134473609205, \"fragment\": \"None\", \"label\": \"\", \"label position\": 21.55134473609205}, {\"x\": 101.0708999633789, \"y\": 14.33383628098858, \"fragment\": \"None\", \"label\": \"\", \"label position\": 19.333836280988578}, {\"x\": 113.07109832763672, \"y\": 2.644528277215737, \"fragment\": \"None\", \"label\": \"\", \"label position\": 7.644528277215737}, {\"x\": 115.05034637451172, \"y\": 100.0, \"fragment\": \"None\", \"label\": \"\", \"label position\": 105.0}, {\"x\": 129.06613159179688, \"y\": 50.637339970087595, \"fragment\": \"b\", \"label\": \"b2\", \"label position\": 55.637339970087595}, {\"x\": 129.3607635498047, \"y\": 0.7971828381233343, \"fragment\": \"None\", \"label\": \"\", \"label position\": 5.797182838123335}, {\"x\": 133.0610809326172, \"y\": 93.32835184983854, \"fragment\": \"y\", \"label\": \"y3\", \"label position\": 98.32835184983854}, {\"x\": 141.06622314453125, \"y\": 19.094913127668388, \"fragment\": \"None\", \"label\": \"\", \"label position\": 24.094913127668388}, {\"x\": 144.07745361328125, \"y\": 3.0773484031534375, \"fragment\": \"None\", \"label\": \"\", \"label position\": 8.077348403153437}, {\"x\": 145.06118774414062, \"y\": 7.279904327308735, \"fragment\": \"None\", \"label\": \"\", \"label position\": 12.279904327308735}, {\"x\": 168.07701110839844, \"y\": 2.093862851022693, \"fragment\": \"None\", \"label\": \"\", \"label position\": 7.093862851022693}, {\"x\": 172.0722198486328, \"y\": 24.71211511281797, \"fragment\": \"None\", \"label\": \"\", \"label position\": 29.71211511281797}, {\"x\": 190.08282470703125, \"y\": 44.751533084357106, \"fragment\": \"y\", \"label\": \"y2\", \"label position\": 49.751533084357106}, {\"x\": 198.08848571777344, \"y\": 6.476955251860711, \"fragment\": \"None\", \"label\": \"\", \"label position\": 11.476955251860712}, {\"x\": 229.09359741210938, \"y\": 13.259111090216175, \"fragment\": \"None\", \"label\": \"\", \"label position\": 18.259111090216173}, {\"x\": 247.10462951660156, \"y\": 22.40148592383208, \"fragment\": \"y\", \"label\": \"y1\", \"label position\": 27.40148592383208}, {\"x\": 300.13287353515625, \"y\": 2.883635812027844, \"fragment\": \"None\", \"label\": \"\", \"label position\": 7.883635812027844}, {\"x\": 317.14501953125, \"y\": 2.7899220822914432, \"fragment\": \"None\", \"label\": \"\", \"label position\": 7.789922082291444}], \"data-dd5037cd937153598d7790386b85d7ab\": [{\"mass\": 129.06613159179688, \"error\": -2.2091390153783723, \"kind\": \"b\"}, {\"mass\": 247.10462951660156, \"error\": -3.837913249169163, \"kind\": \"y\"}, {\"mass\": 190.08282470703125, \"error\": -3.1752293357436794, \"kind\": \"y\"}, {\"mass\": 133.0610809326172, \"error\": -2.4032733309083585, \"kind\": \"y\"}, {\"mass\": 76.0390853881836, \"error\": 2.837518169772518, \"kind\": \"y\"}], \"data-17e831c19f5062cb6812f1f09fc6585c\": [{\"x\": 115.05007934570312, \"y\": 79.55335592337549, \"fragment\": \"b\", \"label\": \"b2\", \"label position\": 84.55335592337549}, {\"x\": 133.060791015625, \"y\": 100.0, \"fragment\": \"y\", \"label\": \"y2\", \"label position\": 105.0}, {\"x\": 190.0823516845703, \"y\": 16.010164315785822, \"fragment\": \"y\", \"label\": \"y1\", \"label position\": 21.010164315785822}], \"data-edc6bd14dfb4a176581d7fcb4deb10d4\": [{\"mass\": 115.05007934570312, \"error\": 1.0180007482874496, \"kind\": \"b\"}, {\"mass\": 190.0823516845703, \"error\": -0.6867239337921401, \"kind\": \"y\"}, {\"mass\": 133.060791015625, \"error\": -0.22444744820576454, \"kind\": \"y\"}], \"data-0d764354facc650360bf2279442a71d4\": [{\"x\": 55.63995361328125, \"y\": 2.4278710153218395, \"fragment\": \"None\", \"label\": \"\", \"label position\": 7.4278710153218395}, {\"x\": 62.04958724975586, \"y\": 2.9612389626362803, \"fragment\": \"None\", \"label\": \"\", \"label position\": 7.96123896263628}, {\"x\": 75.05493927001953, \"y\": 4.14106147958091, \"fragment\": \"None\", \"label\": \"\", \"label position\": 9.141061479580909}, {\"x\": 78.85015869140625, \"y\": 2.529847024346187, \"fragment\": \"None\", \"label\": \"\", \"label position\": 7.5298470243461875}, {\"x\": 87.05481719970703, \"y\": 5.004958470449086, \"fragment\": \"None\", \"label\": \"\", \"label position\": 10.004958470449086}, {\"x\": 90.05457305908203, \"y\": 15.63453804681298, \"fragment\": \"y\", \"label\": \"y5\", \"label position\": 20.634538046812978}, {\"x\": 101.07074737548828, \"y\": 32.943459476760246, \"fragment\": \"None\", \"label\": \"\", \"label position\": 37.943459476760246}, {\"x\": 115.05018615722656, \"y\": 34.092975188694844, \"fragment\": \"None\", \"label\": \"\", \"label position\": 39.092975188694844}, {\"x\": 129.06593322753906, \"y\": 100.0, \"fragment\": \"b\", \"label\": \"b2\", \"label position\": 105.0}, {\"x\": 141.0662078857422, \"y\": 46.27872138700922, \"fragment\": \"None\", \"label\": \"\", \"label position\": 51.27872138700922}, {\"x\": 147.0765838623047, \"y\": 71.07947926715215, \"fragment\": \"y\", \"label\": \"y4\", \"label position\": 76.07947926715215}, {\"x\": 172.07199096679688, \"y\": 40.63798209057825, \"fragment\": \"None\", \"label\": \"\", \"label position\": 45.63798209057825}, {\"x\": 186.08763122558594, \"y\": 88.39184145613054, \"fragment\": \"b\", \"label\": \"b3\", \"label position\": 93.39184145613054}, {\"x\": 198.087890625, \"y\": 28.835482250216334, \"fragment\": \"None\", \"label\": \"\", \"label position\": 33.83548225021633}, {\"x\": 204.0984344482422, \"y\": 31.049981040514435, \"fragment\": \"y\", \"label\": \"y3\", \"label position\": 36.04998104051444}, {\"x\": 215.11439514160156, \"y\": 45.060761669412265, \"fragment\": \"None\", \"label\": \"\", \"label position\": 50.060761669412265}, {\"x\": 229.12939453125, \"y\": 19.314578464809852, \"fragment\": \"None\", \"label\": \"\", \"label position\": 24.314578464809852}, {\"x\": 236.93655395507812, \"y\": 4.133064794271844, \"fragment\": \"None\", \"label\": \"\", \"label position\": 9.133064794271844}, {\"x\": 243.10903930664062, \"y\": 66.6404763863089, \"fragment\": \"b\", \"label\": \"b4\", \"label position\": 71.6404763863089}, {\"x\": 257.1240234375, \"y\": 11.50690332869704, \"fragment\": \"None\", \"label\": \"\", \"label position\": 16.506903328697042}, {\"x\": 261.1196594238281, \"y\": 18.548110384411125, \"fragment\": \"y\", \"label\": \"y2\", \"label position\": 23.548110384411125}, {\"x\": 269.12628173828125, \"y\": 16.015153332704415, \"fragment\": \"None\", \"label\": \"\", \"label position\": 21.015153332704415}, {\"x\": 272.13555908203125, \"y\": 11.09740455416566, \"fragment\": \"None\", \"label\": \"\", \"label position\": 16.09740455416566}, {\"x\": 286.15167236328125, \"y\": 19.566558633950013, \"fragment\": \"None\", \"label\": \"\", \"label position\": 24.566558633950013}, {\"x\": 300.1302795410156, \"y\": 19.310369077985634, \"fragment\": \"b\", \"label\": \"b5\", \"label position\": 24.310369077985634}, {\"x\": 318.1421203613281, \"y\": 7.002604038698898, \"fragment\": \"y\", \"label\": \"y1\", \"label position\": 12.002604038698898}, {\"x\": 371.1662902832031, \"y\": 6.009628902559807, \"fragment\": \"None\", \"label\": \"\", \"label position\": 11.009628902559808}], \"data-d43287e1ac399886350b37102a254d56\": [{\"mass\": 129.06593322753906, \"error\": -0.6722205223429575, \"kind\": \"b\"}, {\"mass\": 186.08763122558594, \"error\": -1.74519291688828, \"kind\": \"b\"}, {\"mass\": 243.10903930664062, \"error\": -1.1222942241843377, \"kind\": \"b\"}, {\"mass\": 300.1302795410156, \"error\": -0.1768373577457143, \"kind\": \"b\"}, {\"mass\": 318.1421203613281, \"error\": -4.178041111290217, \"kind\": \"y\"}, {\"mass\": 261.1196594238281, \"error\": -1.2571759583997073, \"kind\": \"y\"}, {\"mass\": 204.0984344482422, \"error\": -2.7599318617870763, \"kind\": \"y\"}, {\"mass\": 147.0765838623047, \"error\": -1.1742986553641113, \"kind\": \"y\"}, {\"mass\": 90.05457305908203, \"error\": 4.198469606979595, \"kind\": \"y\"}], \"data-3b266f9a2a19048865dc702e8217daf0\": [{\"x\": 87.05509185791016, \"y\": 10.909272398719564, \"fragment\": \"None\", \"label\": \"\", \"label position\": 15.909272398719564}, {\"x\": 101.07073211669922, \"y\": 14.021953007114742, \"fragment\": \"None\", \"label\": \"\", \"label position\": 19.021953007114742}, {\"x\": 115.05020141601562, \"y\": 58.560560972378916, \"fragment\": \"None\", \"label\": \"\", \"label position\": 63.560560972378916}, {\"x\": 129.06597900390625, \"y\": 36.13282349945679, \"fragment\": \"b\", \"label\": \"b2\", \"label position\": 41.13282349945679}, {\"x\": 133.06094360351562, \"y\": 100.0, \"fragment\": \"y\", \"label\": \"y4\", \"label position\": 105.0}, {\"x\": 172.072021484375, \"y\": 57.12613761442905, \"fragment\": \"None\", \"label\": \"\", \"label position\": 62.12613761442905}, {\"x\": 190.0825958251953, \"y\": 44.83680829962452, \"fragment\": \"y\", \"label\": \"y3\", \"label position\": 49.83680829962452}, {\"x\": 198.0877227783203, \"y\": 20.692929174884, \"fragment\": \"None\", \"label\": \"\", \"label position\": 25.692929174884}, {\"x\": 201.09878540039062, \"y\": 8.278174242037657, \"fragment\": \"None\", \"label\": \"\", \"label position\": 13.278174242037657}, {\"x\": 215.1142578125, \"y\": 24.251247043015514, \"fragment\": \"None\", \"label\": \"\", \"label position\": 29.251247043015514}, {\"x\": 229.09361267089844, \"y\": 34.3975458912623, \"fragment\": \"None\", \"label\": \"\", \"label position\": 39.3975458912623}, {\"x\": 247.10415649414062, \"y\": 20.791160417614652, \"fragment\": \"y\", \"label\": \"y2\", \"label position\": 25.791160417614652}, {\"x\": 255.10964965820312, \"y\": 10.84887019859355, \"fragment\": \"None\", \"label\": \"\", \"label position\": 15.84887019859355}, {\"x\": 272.1361999511719, \"y\": 9.718842399568288, \"fragment\": \"None\", \"label\": \"\", \"label position\": 14.718842399568288}, {\"x\": 286.1153259277344, \"y\": 10.78482340850316, \"fragment\": \"None\", \"label\": \"\", \"label position\": 15.78482340850316}, {\"x\": 304.1252136230469, \"y\": 7.079802325240135, \"fragment\": \"y\", \"label\": \"y1\", \"label position\": 12.079802325240134}, {\"x\": 357.15301513671875, \"y\": 6.944242747571683, \"fragment\": \"None\", \"label\": \"\", \"label position\": 11.944242747571682}], \"data-84cdd6086da9e5ba99d5ee6da802f316\": [{\"mass\": 129.06597900390625, \"error\": -1.0268944400474913, \"kind\": \"b\"}, {\"mass\": 304.1252136230469, \"error\": -0.23829848233570478, \"kind\": \"y\"}, {\"mass\": 247.10415649414062, \"error\": -1.9236571224028514, \"kind\": \"y\"}, {\"mass\": 190.0825958251953, \"error\": -1.9711153652270685, \"kind\": \"y\"}, {\"mass\": 133.06094360351562, \"error\": -1.3711990963205294, \"kind\": \"y\"}], \"data-1616783219377838c44a05dc4460c6da\": [{\"x\": 53.42913055419922, \"y\": 1.1644540665381033, \"fragment\": \"None\", \"label\": \"\", \"label position\": 6.164454066538103}, {\"x\": 66.37964630126953, \"y\": 1.1893235922490106, \"fragment\": \"None\", \"label\": \"\", \"label position\": 6.189323592249011}, {\"x\": 72.45970153808594, \"y\": 1.0380546279825076, \"fragment\": \"None\", \"label\": \"\", \"label position\": 6.038054627982508}, {\"x\": 74.11524963378906, \"y\": 0.9719442507496581, \"fragment\": \"None\", \"label\": \"\", \"label position\": 5.971944250749658}, {\"x\": 90.05438232421875, \"y\": 1.071547050691416, \"fragment\": \"y\", \"label\": \"y4\", \"label position\": 6.071547050691416}, {\"x\": 101.07081604003906, \"y\": 2.406094313069614, \"fragment\": \"None\", \"label\": \"\", \"label position\": 7.406094313069614}, {\"x\": 115.0867919921875, \"y\": 5.83417180144548, \"fragment\": \"None\", \"label\": \"\", \"label position\": 10.83417180144548}, {\"x\": 122.88191986083984, \"y\": 1.1665778002015657, \"fragment\": \"None\", \"label\": \"\", \"label position\": 6.166577800201566}, {\"x\": 129.06594848632812, \"y\": 13.439317735986142, \"fragment\": \"None\", \"label\": \"\", \"label position\": 18.439317735986144}, {\"x\": 143.0817413330078, \"y\": 11.742551172512076, \"fragment\": \"b\", \"label\": \"b2\", \"label position\": 16.742551172512076}, {\"x\": 147.07662963867188, \"y\": 7.978993306224473, \"fragment\": \"y\", \"label\": \"y3\", \"label position\": 12.978993306224474}, {\"x\": 155.08184814453125, \"y\": 5.279403325109102, \"fragment\": \"None\", \"label\": \"\", \"label position\": 10.2794033251091}, {\"x\": 161.967041015625, \"y\": 1.1978460608693255, \"fragment\": \"None\", \"label\": \"\", \"label position\": 6.197846060869326}, {\"x\": 200.10342407226562, \"y\": 10.189514031987072, \"fragment\": \"b\", \"label\": \"b3\", \"label position\": 15.189514031987072}, {\"x\": 232.95901489257812, \"y\": 2.9470477982315457, \"fragment\": \"None\", \"label\": \"\", \"label position\": 7.947047798231546}, {\"x\": 257.1261291503906, \"y\": 2.4448827883283544, \"fragment\": \"b\", \"label\": \"b4\", \"label position\": 7.444882788328354}, {\"x\": 291.1198425292969, \"y\": 8.054361538431994, \"fragment\": \"None\", \"label\": \"\", \"label position\": 13.054361538431994}, {\"x\": 346.172607421875, \"y\": 9.039740070319773, \"fragment\": \"None\", \"label\": \"\", \"label position\": 14.039740070319773}, {\"x\": 347.18328857421875, \"y\": 100.0, \"fragment\": \"None\", \"label\": \"\", \"label position\": 105.0}], \"data-f419d5c57019707d2b8da9ecdf3e7a60\": [{\"mass\": 143.0817413330078, \"error\": -1.7113730621803973, \"kind\": \"b\"}, {\"mass\": 200.10342407226562, \"error\": -2.336819061428528, \"kind\": \"b\"}, {\"mass\": 257.1261291503906, \"error\": -6.660869613949447, \"kind\": \"b\"}, {\"mass\": 147.07662963867188, \"error\": -1.4855399011339783, \"kind\": \"y\"}, {\"mass\": 90.05438232421875, \"error\": 6.3164749627776, \"kind\": \"y\"}], \"data-e8b2a5dbd0399970b408e1a88fc15f24\": [{\"x\": 55.63995361328125, \"y\": 2.4278710153218395, \"fragment\": \"None\", \"label\": \"\", \"label position\": 7.4278710153218395}, {\"x\": 62.04958724975586, \"y\": 2.9612389626362803, \"fragment\": \"None\", \"label\": \"\", \"label position\": 7.96123896263628}, {\"x\": 75.05493927001953, \"y\": 4.14106147958091, \"fragment\": \"None\", \"label\": \"\", \"label position\": 9.141061479580909}, {\"x\": 78.85015869140625, \"y\": 2.529847024346187, \"fragment\": \"None\", \"label\": \"\", \"label position\": 7.5298470243461875}, {\"x\": 87.05481719970703, \"y\": 5.004958470449086, \"fragment\": \"None\", \"label\": \"\", \"label position\": 10.004958470449086}, {\"x\": 90.05457305908203, \"y\": 15.63453804681298, \"fragment\": \"None\", \"label\": \"\", \"label position\": 20.634538046812978}, {\"x\": 101.07074737548828, \"y\": 32.943459476760246, \"fragment\": \"None\", \"label\": \"\", \"label position\": 37.943459476760246}, {\"x\": 115.05018615722656, \"y\": 34.092975188694844, \"fragment\": \"None\", \"label\": \"\", \"label position\": 39.092975188694844}, {\"x\": 129.06593322753906, \"y\": 100.0, \"fragment\": \"None\", \"label\": \"\", \"label position\": 105.0}, {\"x\": 141.0662078857422, \"y\": 46.27872138700922, \"fragment\": \"None\", \"label\": \"\", \"label position\": 51.27872138700922}, {\"x\": 147.0765838623047, \"y\": 71.07947926715215, \"fragment\": \"None\", \"label\": \"\", \"label position\": 76.07947926715215}, {\"x\": 172.07199096679688, \"y\": 40.63798209057825, \"fragment\": \"None\", \"label\": \"\", \"label position\": 45.63798209057825}, {\"x\": 186.08763122558594, \"y\": 88.39184145613054, \"fragment\": \"None\", \"label\": \"\", \"label position\": 93.39184145613054}, {\"x\": 198.087890625, \"y\": 28.835482250216334, \"fragment\": \"None\", \"label\": \"\", \"label position\": 33.83548225021633}, {\"x\": 204.0984344482422, \"y\": 31.049981040514435, \"fragment\": \"None\", \"label\": \"\", \"label position\": 36.04998104051444}, {\"x\": 215.11439514160156, \"y\": 45.060761669412265, \"fragment\": \"None\", \"label\": \"\", \"label position\": 50.060761669412265}, {\"x\": 229.12939453125, \"y\": 19.314578464809852, \"fragment\": \"None\", \"label\": \"\", \"label position\": 24.314578464809852}, {\"x\": 236.93655395507812, \"y\": 4.133064794271844, \"fragment\": \"None\", \"label\": \"\", \"label position\": 9.133064794271844}, {\"x\": 243.10903930664062, \"y\": 66.6404763863089, \"fragment\": \"None\", \"label\": \"\", \"label position\": 71.6404763863089}, {\"x\": 257.1240234375, \"y\": 11.50690332869704, \"fragment\": \"b\", \"label\": \"b4\", \"label position\": 16.506903328697042}, {\"x\": 261.1196594238281, \"y\": 18.548110384411125, \"fragment\": \"None\", \"label\": \"\", \"label position\": 23.548110384411125}, {\"x\": 269.12628173828125, \"y\": 16.015153332704415, \"fragment\": \"None\", \"label\": \"\", \"label position\": 21.015153332704415}, {\"x\": 272.13555908203125, \"y\": 11.09740455416566, \"fragment\": \"None\", \"label\": \"\", \"label position\": 16.09740455416566}, {\"x\": 286.15167236328125, \"y\": 19.566558633950013, \"fragment\": \"None\", \"label\": \"\", \"label position\": 24.566558633950013}, {\"x\": 300.1302795410156, \"y\": 19.310369077985634, \"fragment\": \"None\", \"label\": \"\", \"label position\": 24.310369077985634}, {\"x\": 318.1421203613281, \"y\": 7.002604038698898, \"fragment\": \"y\", \"label\": \"y1\", \"label position\": 12.002604038698898}, {\"x\": 371.1662902832031, \"y\": 6.009628902559807, \"fragment\": \"None\", \"label\": \"\", \"label position\": 11.009628902559808}], \"data-41759499714714481234e59bceb5816e\": [{\"mass\": 257.1240234375, \"error\": 1.5285591161817556, \"kind\": \"b\"}, {\"mass\": 318.1421203613281, \"error\": -4.178041111290217, \"kind\": \"y\"}], \"data-e586fe022ee5de353221aab12c44ce68\": [{\"x\": 101.07087707519531, \"y\": 41.91855464041241, \"fragment\": \"None\", \"label\": \"\", \"label position\": 46.91855464041241}, {\"x\": 129.0660858154297, \"y\": 100.0, \"fragment\": \"None\", \"label\": \"\", \"label position\": 105.0}, {\"x\": 147.07681274414062, \"y\": 92.01138084520947, \"fragment\": \"None\", \"label\": \"\", \"label position\": 97.01138084520947}, {\"x\": 186.08779907226562, \"y\": 12.721110423112824, \"fragment\": \"b\", \"label\": \"b3\", \"label position\": 17.721110423112826}, {\"x\": 204.0983428955078, \"y\": 30.657585395364183, \"fragment\": \"None\", \"label\": \"\", \"label position\": 35.65758539536418}], \"data-6a99b3ef0c4d3cfff968cfcc73d7a9f6\": [{\"mass\": 186.08779907226562, \"error\": -2.6471670796192917, \"kind\": \"b\"}], \"data-f06a9f5e29166482f41ab21924c9ac5d\": [{\"x\": 101.07087707519531, \"y\": 41.91855464041241, \"fragment\": \"None\", \"label\": \"\", \"label position\": 46.91855464041241}, {\"x\": 129.0660858154297, \"y\": 100.0, \"fragment\": \"b\", \"label\": \"b2\", \"label position\": 105.0}, {\"x\": 147.07681274414062, \"y\": 92.01138084520947, \"fragment\": \"y\", \"label\": \"y2\", \"label position\": 97.01138084520947}, {\"x\": 186.08779907226562, \"y\": 12.721110423112824, \"fragment\": \"None\", \"label\": \"\", \"label position\": 17.721110423112826}, {\"x\": 204.0983428955078, \"y\": 30.657585395364183, \"fragment\": \"y\", \"label\": \"y1\", \"label position\": 35.65758539536418}], \"data-997222d7842f52ecb7db256e0b052892\": [{\"mass\": 129.0660858154297, \"error\": -1.8544659362969829, \"kind\": \"b\"}, {\"mass\": 204.0983428955078, \"error\": -2.311361430509428, \"kind\": \"y\"}, {\"mass\": 147.07681274414062, \"error\": -2.7305029467913213, \"kind\": \"y\"}]}}, {\"mode\": \"vega-lite\"});\n</script>",
      "text/plain": [
       "alt.VConcatChart(...)"
      ]
     },
     "metadata": {},
     "execution_count": 161
    }
   ],
   "source": [
    "chart = alt.vconcat()\n",
    "\n",
    "for item in zip(valid['Source File'], valid['Peptide'],\n",
    "                valid['Scan']):\n",
    "    source = item[0]\n",
    "    # print(source)\n",
    "    source = source.split('.')[0]\n",
    "    source = [f for f in xmls if re.search(r'{}'.format(source), f)][0]\n",
    "    m = mzXML(r'{}'.format(source))\n",
    "\n",
    "\n",
    "    peptide = item[1]\n",
    "    frags = fragments(peptide)\n",
    "\n",
    "    scan = item[2]\n",
    "    x, y = m.get_scan(scan)\n",
    "    x, y = prof_to_cent(x, y)\n",
    "\n",
    "    chart &= plot_ms2_data(x, y, peptide, frags, show_error=True).resolve_scale(\n",
    "        x='shared'\n",
    "    )\n",
    "    \n",
    "chart.configure_view(\n",
    "        strokeWidth=0\n",
    "    )"
   ]
  },
  {
   "cell_type": "code",
   "execution_count": null,
   "metadata": {},
   "outputs": [],
   "source": []
  }
 ]
}